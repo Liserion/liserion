{
  "nbformat": 4,
  "nbformat_minor": 0,
  "metadata": {
    "colab": {
      "name": "home02.ipynb",
      "provenance": [],
      "authorship_tag": "ABX9TyOXzzc7pHV0Zx5hevB+TB38",
      "include_colab_link": true
    },
    "kernelspec": {
      "name": "python3",
      "display_name": "Python 3"
    },
    "language_info": {
      "name": "python"
    }
  },
  "cells": [
    {
      "cell_type": "markdown",
      "metadata": {
        "id": "view-in-github",
        "colab_type": "text"
      },
      "source": [
        "<a href=\"https://colab.research.google.com/github/Liserion/liserion/blob/main/home02.ipynb\" target=\"_parent\"><img src=\"https://colab.research.google.com/assets/colab-badge.svg\" alt=\"Open In Colab\"/></a>"
      ]
    },
    {
      "cell_type": "code",
      "execution_count": 125,
      "metadata": {
        "colab": {
          "base_uri": "https://localhost:8080/"
        },
        "id": "3INOP-7TFOtI",
        "outputId": "6ae70ff6-dfbe-453d-f634-70673852b9d5"
      },
      "outputs": [
        {
          "output_type": "stream",
          "name": "stdout",
          "text": [
            "Requirement already satisfied: numpy in /usr/local/lib/python3.7/dist-packages (1.21.6)\n",
            "[0.+0.j 0.+0.j]\n"
          ]
        }
      ],
      "source": [
        "\n",
        "\n",
        "!pip install numpy\n",
        "import numpy as np\n",
        "import cmath\n",
        "import math\n",
        "\n",
        "i = complex()\n",
        "\n",
        "x = np.random.uniform(-math.pi, math.pi)\n",
        "y = np.random.uniform(-math.pi, math.pi)\n",
        "F = cmath.exp(i*y)+2*cmath.exp(-i*x/2)*cmath.cos((math.sqrt(3)/2)/2)\n",
        "\n",
        "Matrix = np.array([[0,F],[F, 0]], dtype=complex)\n",
        "from numpy import linalg\n",
        "p = np.diag(Matrix)\n",
        "print(p)\n",
        "\n",
        "\n"
      ]
    },
    {
      "cell_type": "code",
      "source": [
        "print(Matrix)"
      ],
      "metadata": {
        "colab": {
          "base_uri": "https://localhost:8080/"
        },
        "id": "GiuJSF6wfvVc",
        "outputId": "ada1a4e1-ae0e-4635-c66c-0d1bfc623c18"
      },
      "execution_count": 107,
      "outputs": [
        {
          "output_type": "stream",
          "name": "stdout",
          "text": [
            "[[0.        +0.j 2.81541144+0.j]\n",
            " [2.81541144+0.j 0.        +0.j]]\n"
          ]
        }
      ]
    },
    {
      "cell_type": "code",
      "source": [
        "w,r = linalg.eig(Matrix)\n",
        "print(w,r)"
      ],
      "metadata": {
        "colab": {
          "base_uri": "https://localhost:8080/"
        },
        "id": "SG4kPh6mf1Lw",
        "outputId": "c9bb3b45-c30d-46d6-dfd5-2f25ea58cd80"
      },
      "execution_count": 108,
      "outputs": [
        {
          "output_type": "stream",
          "name": "stdout",
          "text": [
            "[ 2.81541144+0.j -2.81541144+0.j] [[ 0.70710678+0.j  0.70710678+0.j]\n",
            " [ 0.70710678-0.j -0.70710678-0.j]]\n"
          ]
        }
      ]
    },
    {
      "cell_type": "code",
      "source": [
        "plt.plot(w)\n",
        "plt.legend(['Eigenvalue'])"
      ],
      "metadata": {
        "colab": {
          "base_uri": "https://localhost:8080/",
          "height": 368
        },
        "id": "HoPLSBUygiwN",
        "outputId": "f3d212ee-13d2-489d-8a49-06e85d32955b"
      },
      "execution_count": 109,
      "outputs": [
        {
          "output_type": "stream",
          "name": "stderr",
          "text": [
            "/usr/local/lib/python3.7/dist-packages/matplotlib/cbook/__init__.py:1317: ComplexWarning: Casting complex values to real discards the imaginary part\n",
            "  return np.asarray(x, float)\n"
          ]
        },
        {
          "output_type": "execute_result",
          "data": {
            "text/plain": [
              "<matplotlib.legend.Legend at 0x7fecc78f2a10>"
            ]
          },
          "metadata": {},
          "execution_count": 109
        },
        {
          "output_type": "display_data",
          "data": {
            "text/plain": [
              "<Figure size 432x288 with 1 Axes>"
            ],
            "image/png": "[encoded data removed]"
          },
          "metadata": {
            "needs_background": "light"
          }
        }
      ]
    }
  ]
}